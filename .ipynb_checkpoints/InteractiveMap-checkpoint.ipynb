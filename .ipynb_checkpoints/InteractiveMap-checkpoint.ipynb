{
 "cells": [
  {
   "cell_type": "code",
   "execution_count": 3,
   "id": "0b71c18e",
   "metadata": {},
   "outputs": [
    {
     "data": {
      "text/html": [
       "\n",
       "    <div style=\"text-align:center; margin-bottom:16px;\">\n",
       "        <h2 style=\"margin: 0;\">Percentage of Olympic Medals Won by Women</h2>\n",
       "    </div>\n"
      ],
      "text/plain": [
       "<IPython.core.display.HTML object>"
      ]
     },
     "metadata": {},
     "output_type": "display_data"
    },
    {
     "data": {
      "application/vnd.jupyter.widget-view+json": {
       "model_id": "3d9aeb3e00734b48a4961c5976a1ed42",
       "version_major": 2,
       "version_minor": 0
      },
      "text/plain": [
       "HBox(children=(ToggleButtons(description='Medals from:', options=('both', 'summer', 'winter'), tooltips=('All …"
      ]
     },
     "metadata": {},
     "output_type": "display_data"
    },
    {
     "data": {
      "application/vnd.jupyter.widget-view+json": {
       "model_id": "68a748bb5c594c73811ad991f90bc5e1",
       "version_major": 2,
       "version_minor": 0
      },
      "text/plain": [
       "Output()"
      ]
     },
     "metadata": {},
     "output_type": "display_data"
    },
    {
     "ename": "AttributeError",
     "evalue": "`np.NaN` was removed in the NumPy 2.0 release. Use `np.nan` instead.",
     "output_type": "error",
     "traceback": [
      "\u001b[31m---------------------------------------------------------------------------\u001b[39m",
      "\u001b[31mAttributeError\u001b[39m                            Traceback (most recent call last)",
      "\u001b[36mCell\u001b[39m\u001b[36m \u001b[39m\u001b[32mIn[3]\u001b[39m\u001b[32m, line 20\u001b[39m\n\u001b[32m     17\u001b[39m display(map_output)\n\u001b[32m     19\u001b[39m \u001b[38;5;66;03m# Update map when button is clicked\u001b[39;00m\n\u001b[32m---> \u001b[39m\u001b[32m20\u001b[39m update_map_from_choice(season_buttons.value, map_output)\n",
      "\u001b[36mFile \u001b[39m\u001b[32m~/Documents/GitHub/olympic-medals/map_code/visualization.py:25\u001b[39m, in \u001b[36mupdate_map_from_choice\u001b[39m\u001b[34m(season, map_output)\u001b[39m\n\u001b[32m     24\u001b[39m \u001b[38;5;28;01mdef\u001b[39;00m\u001b[38;5;250m \u001b[39m\u001b[34mupdate_map_from_choice\u001b[39m(season,map_output):\n\u001b[32m---> \u001b[39m\u001b[32m25\u001b[39m     medal_ratios_df = update_medal_ratios(season=season)\n\u001b[32m     26\u001b[39m     ratio_dict = \u001b[38;5;28mdict\u001b[39m(\u001b[38;5;28mzip\u001b[39m(medal_ratios_df[\u001b[33m\"\u001b[39m\u001b[33mCountry\u001b[39m\u001b[33m\"\u001b[39m], medal_ratios_df[\u001b[33m\"\u001b[39m\u001b[33mRatio\u001b[39m\u001b[33m\"\u001b[39m]))\n\u001b[32m     27\u001b[39m     count_dict = \u001b[38;5;28mdict\u001b[39m(\u001b[38;5;28mzip\u001b[39m(medal_ratios_df[\u001b[33m\"\u001b[39m\u001b[33mCountry\u001b[39m\u001b[33m\"\u001b[39m], medal_ratios_df[\u001b[33m\"\u001b[39m\u001b[33mTotalMedals\u001b[39m\u001b[33m\"\u001b[39m]))\n",
      "\u001b[36mFile \u001b[39m\u001b[32m~/Documents/GitHub/olympic-medals/map_code/process_update.py:33\u001b[39m, in \u001b[36mupdate_medal_ratios\u001b[39m\u001b[34m(season)\u001b[39m\n\u001b[32m     30\u001b[39m medal_counts = men_count + women_count\n\u001b[32m     31\u001b[39m medal_ratios = women_count / medal_counts\n\u001b[32m---> \u001b[39m\u001b[32m33\u001b[39m medal_ratios[medal_counts < \u001b[32m10\u001b[39m] = np.NaN\n\u001b[32m     34\u001b[39m medal_counts[medal_counts < \u001b[32m10\u001b[39m] = np.NaN\n\u001b[32m     36\u001b[39m medal_ratios.rename(index=ioc_to_iso, inplace=\u001b[38;5;28;01mTrue\u001b[39;00m)\n",
      "\u001b[36mFile \u001b[39m\u001b[32m~/opt/anaconda3/envs/den/lib/python3.12/site-packages/numpy/__init__.py:400\u001b[39m, in \u001b[36m__getattr__\u001b[39m\u001b[34m(attr)\u001b[39m\n\u001b[32m    397\u001b[39m     \u001b[38;5;28;01mraise\u001b[39;00m \u001b[38;5;167;01mAttributeError\u001b[39;00m(__former_attrs__[attr], name=\u001b[38;5;28;01mNone\u001b[39;00m)\n\u001b[32m    399\u001b[39m \u001b[38;5;28;01mif\u001b[39;00m attr \u001b[38;5;129;01min\u001b[39;00m __expired_attributes__:\n\u001b[32m--> \u001b[39m\u001b[32m400\u001b[39m     \u001b[38;5;28;01mraise\u001b[39;00m \u001b[38;5;167;01mAttributeError\u001b[39;00m(\n\u001b[32m    401\u001b[39m         \u001b[33mf\u001b[39m\u001b[33m\"\u001b[39m\u001b[33m`np.\u001b[39m\u001b[38;5;132;01m{\u001b[39;00mattr\u001b[38;5;132;01m}\u001b[39;00m\u001b[33m` was removed in the NumPy 2.0 release. \u001b[39m\u001b[33m\"\u001b[39m\n\u001b[32m    402\u001b[39m         \u001b[33mf\u001b[39m\u001b[33m\"\u001b[39m\u001b[38;5;132;01m{\u001b[39;00m__expired_attributes__[attr]\u001b[38;5;132;01m}\u001b[39;00m\u001b[33m\"\u001b[39m,\n\u001b[32m    403\u001b[39m         name=\u001b[38;5;28;01mNone\u001b[39;00m\n\u001b[32m    404\u001b[39m     )\n\u001b[32m    406\u001b[39m \u001b[38;5;28;01mif\u001b[39;00m attr == \u001b[33m\"\u001b[39m\u001b[33mchararray\u001b[39m\u001b[33m\"\u001b[39m:\n\u001b[32m    407\u001b[39m     warnings.warn(\n\u001b[32m    408\u001b[39m         \u001b[33m\"\u001b[39m\u001b[33m`np.chararray` is deprecated and will be removed from \u001b[39m\u001b[33m\"\u001b[39m\n\u001b[32m    409\u001b[39m         \u001b[33m\"\u001b[39m\u001b[33mthe main namespace in the future. Use an array with a string \u001b[39m\u001b[33m\"\u001b[39m\n\u001b[32m    410\u001b[39m         \u001b[33m\"\u001b[39m\u001b[33mor bytes dtype instead.\u001b[39m\u001b[33m\"\u001b[39m, \u001b[38;5;167;01mDeprecationWarning\u001b[39;00m, stacklevel=\u001b[32m2\u001b[39m)\n",
      "\u001b[31mAttributeError\u001b[39m: `np.NaN` was removed in the NumPy 2.0 release. Use `np.nan` instead."
     ]
    }
   ],
   "source": [
    "import json\n",
    "from IPython.display import display,HTML\n",
    "from map_code.layout import season_buttons\n",
    "from map_code.visualization import update_map_from_choice, make_on_season_change\n",
    "import ipywidgets as widgets\n",
    "\n",
    "map_output = widgets.Output()\n",
    "season_buttons.observe(make_on_season_change(map_output, update_map_from_choice))\n",
    "\n",
    "# Display title, buttons, and map\n",
    "display(HTML(\"\"\"\n",
    "    <div style=\"text-align:center; margin-bottom:16px;\">\n",
    "        <h2 style=\"margin: 0;\">Percentage of Olympic Medals Won by Women</h2>\n",
    "    </div>\n",
    "\"\"\"))\n",
    "display(widgets.HBox([season_buttons], layout=widgets.Layout(justify_content='center')))\n",
    "display(map_output)\n",
    "\n",
    "# Update map when button is clicked\n",
    "update_map_from_choice(season_buttons.value, map_output)"
   ]
  },
  {
   "cell_type": "code",
   "execution_count": null,
   "id": "7f9d2cc3",
   "metadata": {},
   "outputs": [],
   "source": []
  }
 ],
 "metadata": {
  "kernelspec": {
   "display_name": "Python 3 (ipykernel)",
   "language": "python",
   "name": "python3"
  },
  "language_info": {
   "codemirror_mode": {
    "name": "ipython",
    "version": 3
   },
   "file_extension": ".py",
   "mimetype": "text/x-python",
   "name": "python",
   "nbconvert_exporter": "python",
   "pygments_lexer": "ipython3",
   "version": "3.12.10"
  }
 },
 "nbformat": 4,
 "nbformat_minor": 5
}
