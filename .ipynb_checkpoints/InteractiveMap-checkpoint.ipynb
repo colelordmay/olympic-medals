{
 "cells": [
  {
   "cell_type": "code",
   "execution_count": 1,
   "id": "b822200e",
   "metadata": {
    "scrolled": false
   },
   "outputs": [
    {
     "data": {
      "application/vnd.jupyter.widget-view+json": {
       "model_id": "774658f3a2e84c1591ad6cdfd05fd894",
       "version_major": 2,
       "version_minor": 0
      },
      "text/plain": [
       "ToggleButtons(description='Season:', options=('both', 'summer', 'winter'), tooltips=('All medals', 'Summer med…"
      ]
     },
     "metadata": {},
     "output_type": "display_data"
    },
    {
     "data": {
      "application/vnd.jupyter.widget-view+json": {
       "model_id": "f7236cf20ffc4fdc83d1e3fa919aa726",
       "version_major": 2,
       "version_minor": 0
      },
      "text/plain": [
       "Output()"
      ]
     },
     "metadata": {},
     "output_type": "display_data"
    }
   ],
   "source": [
    "import json\n",
    "from IPython.display import display\n",
    "from map_code.layout import season_buttons\n",
    "from map_code.visualization import update_map_from_choice, on_season_change\n",
    "import ipywidgets as widgets\n",
    "\n",
    "map_output = widgets.Output()\n",
    "\n",
    "\n",
    "\n",
    "season_buttons.observe(on_season_change)\n",
    "display(season_buttons)\n",
    "display(map_output)\n",
    "update_map_from_choice(season_buttons.value, map_output)"
   ]
  },
  {
   "cell_type": "code",
   "execution_count": 4,
   "id": "29f4b9a1",
   "metadata": {},
   "outputs": [],
   "source": [
    "with open(\"data/ne_50m_admin_0_countries.geojson\", \"r\", encoding=\"utf-8\") as f:\n",
    "    countries_json = json.load(f)"
   ]
  }
 ],
 "metadata": {
  "kernelspec": {
   "display_name": "Python 3 (ipykernel)",
   "language": "python",
   "name": "python3"
  },
  "language_info": {
   "codemirror_mode": {
    "name": "ipython",
    "version": 3
   },
   "file_extension": ".py",
   "mimetype": "text/x-python",
   "name": "python",
   "nbconvert_exporter": "python",
   "pygments_lexer": "ipython3",
   "version": "3.9.13"
  }
 },
 "nbformat": 4,
 "nbformat_minor": 5
}
