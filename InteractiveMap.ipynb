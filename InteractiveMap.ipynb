{
 "cells": [
  {
   "cell_type": "code",
   "execution_count": 2,
   "id": "99af4d56",
   "metadata": {
    "scrolled": false
   },
   "outputs": [
    {
     "data": {
      "text/html": [
       "<h2 style='text-align:center; margin-bottom:10px;'>Percentage of Olympic Medals Won by Women</h2>"
      ],
      "text/plain": [
       "<IPython.core.display.HTML object>"
      ]
     },
     "metadata": {},
     "output_type": "display_data"
    },
    {
     "data": {
      "application/vnd.jupyter.widget-view+json": {
       "model_id": "4226157132ee4c4697d1c358d2e18cf2",
       "version_major": 2,
       "version_minor": 0
      },
      "text/plain": [
       "HBox(children=(ToggleButtons(description='Medals from:', options=('both', 'summer', 'winter'), tooltips=('All …"
      ]
     },
     "metadata": {},
     "output_type": "display_data"
    },
    {
     "data": {
      "application/vnd.jupyter.widget-view+json": {
       "model_id": "2c9033f6bec6497bbfac0f82d4bab20e",
       "version_major": 2,
       "version_minor": 0
      },
      "text/plain": [
       "Output()"
      ]
     },
     "metadata": {},
     "output_type": "display_data"
    }
   ],
   "source": [
    "import json\n",
    "from IPython.display import display,HTML\n",
    "from map_code.layout import season_buttons\n",
    "from map_code.visualization import update_map_from_choice, make_on_season_change\n",
    "import ipywidgets as widgets\n",
    "\n",
    "map_output = widgets.Output()\n",
    "\n",
    "\n",
    "season_buttons.observe(make_on_season_change(map_output, update_map_from_choice))\n",
    "\n",
    "display(HTML(\"<h2 style='text-align:center; margin-bottom:10px;'>Percentage of Olympic Medals Won by Women</h2>\"))\n",
    "display(widgets.HBox([season_buttons], layout=widgets.Layout(justify_content='center')))\n",
    "display(map_output)\n",
    "update_map_from_choice(season_buttons.value, map_output)"
   ]
  }
 ],
 "metadata": {
  "kernelspec": {
   "display_name": "Python 3 (ipykernel)",
   "language": "python",
   "name": "python3"
  },
  "language_info": {
   "codemirror_mode": {
    "name": "ipython",
    "version": 3
   },
   "file_extension": ".py",
   "mimetype": "text/x-python",
   "name": "python",
   "nbconvert_exporter": "python",
   "pygments_lexer": "ipython3",
   "version": "3.9.13"
  }
 },
 "nbformat": 4,
 "nbformat_minor": 5
}
