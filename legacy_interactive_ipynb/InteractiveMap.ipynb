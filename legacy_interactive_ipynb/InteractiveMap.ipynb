{
 "cells": [
  {
   "cell_type": "code",
   "execution_count": null,
   "id": "1c39d110-a0f6-414c-bc6c-2dbdf250a76a",
   "metadata": {},
   "outputs": [],
   "source": [
    "### This is not the intended way to view the map.\n",
    "### It works very well locally, but is awkward to share between machines."
   ]
  },
  {
   "cell_type": "code",
   "execution_count": null,
   "id": "0b71c18e",
   "metadata": {},
   "outputs": [],
   "source": [
    "import json\n",
    "from IPython.display import display,HTML\n",
    "from layout import season_buttons\n",
    "from visualization import update_map_from_choice, make_on_season_change\n",
    "import ipywidgets as widgets\n",
    "\n",
    "map_output = widgets.Output()\n",
    "season_buttons.observe(make_on_season_change(map_output, update_map_from_choice))\n",
    "\n",
    "# Display title, buttons, and map\n",
    "display(HTML(\"\"\"\n",
    "    <div style=\"text-align:center; margin-bottom:16px;\">\n",
    "        <h2 style=\"margin: 0;\">Percentage of Olympic Medals Won by Women</h2>\n",
    "    </div>\n",
    "\"\"\"))\n",
    "display(widgets.HBox([season_buttons], layout=widgets.Layout(justify_content='center')))\n",
    "display(map_output)\n",
    "\n",
    "# Update map when button is clicked\n",
    "update_map_from_choice(season_buttons.value, map_output)"
   ]
  }
 ],
 "metadata": {
  "kernelspec": {
   "display_name": "Python 3 (ipykernel)",
   "language": "python",
   "name": "python3"
  },
  "language_info": {
   "codemirror_mode": {
    "name": "ipython",
    "version": 3
   },
   "file_extension": ".py",
   "mimetype": "text/x-python",
   "name": "python",
   "nbconvert_exporter": "python",
   "pygments_lexer": "ipython3",
   "version": "3.10.18"
  }
 },
 "nbformat": 4,
 "nbformat_minor": 5
}
