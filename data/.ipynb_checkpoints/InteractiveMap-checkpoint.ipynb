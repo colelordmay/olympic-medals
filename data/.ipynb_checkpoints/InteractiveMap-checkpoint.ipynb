{
 "cells": [
  {
   "cell_type": "code",
   "execution_count": 1,
   "id": "0b71c18e",
   "metadata": {
    "scrolled": false
   },
   "outputs": [
    {
     "data": {
      "text/html": [
       "\n",
       "    <div style=\"text-align:center; margin-bottom:16px;\">\n",
       "        <h2 style=\"margin: 0;\">Percentage of Olympic Medals Won by Women</h2>\n",
       "    </div>\n"
      ],
      "text/plain": [
       "<IPython.core.display.HTML object>"
      ]
     },
     "metadata": {},
     "output_type": "display_data"
    },
    {
     "data": {
      "application/vnd.jupyter.widget-view+json": {
       "model_id": "248aaa304cb04037ad26a5b95da7c487",
       "version_major": 2,
       "version_minor": 0
      },
      "text/plain": [
       "HBox(children=(ToggleButtons(description='Medals from:', options=('both', 'summer', 'winter'), tooltips=('All …"
      ]
     },
     "metadata": {},
     "output_type": "display_data"
    },
    {
     "data": {
      "application/vnd.jupyter.widget-view+json": {
       "model_id": "883d5b2e698a43df997858afe0640cc4",
       "version_major": 2,
       "version_minor": 0
      },
      "text/plain": [
       "Output()"
      ]
     },
     "metadata": {},
     "output_type": "display_data"
    }
   ],
   "source": [
    "import json\n",
    "from IPython.display import display,HTML\n",
    "from map_code.layout import season_buttons\n",
    "from map_code.visualization import update_map_from_choice, make_on_season_change\n",
    "import ipywidgets as widgets\n",
    "\n",
    "map_output = widgets.Output()\n",
    "season_buttons.observe(make_on_season_change(map_output, update_map_from_choice))\n",
    "\n",
    "# Display title, buttons, and map\n",
    "display(HTML(\"\"\"\n",
    "    <div style=\"text-align:center; margin-bottom:16px;\">\n",
    "        <h2 style=\"margin: 0;\">Percentage of Olympic Medals Won by Women</h2>\n",
    "    </div>\n",
    "\"\"\"))\n",
    "display(widgets.HBox([season_buttons], layout=widgets.Layout(justify_content='center')))\n",
    "display(map_output)\n",
    "\n",
    "# Update map when button is clicked\n",
    "update_map_from_choice(season_buttons.value, map_output)"
   ]
  },
  {
   "cell_type": "code",
   "execution_count": null,
   "id": "7f9d2cc3",
   "metadata": {},
   "outputs": [],
   "source": []
  }
 ],
 "metadata": {
  "kernelspec": {
   "display_name": "Python 3 (ipykernel)",
   "language": "python",
   "name": "python3"
  },
  "language_info": {
   "codemirror_mode": {
    "name": "ipython",
    "version": 3
   },
   "file_extension": ".py",
   "mimetype": "text/x-python",
   "name": "python",
   "nbconvert_exporter": "python",
   "pygments_lexer": "ipython3",
   "version": "3.9.13"
  }
 },
 "nbformat": 4,
 "nbformat_minor": 5
}
